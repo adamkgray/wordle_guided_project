{
 "cells": [
  {
   "cell_type": "markdown",
   "metadata": {
    "tags": []
   },
   "source": [
    "# Guided Project - Wordle\n",
    "\n",
    "In this guided project you will write a command line version of the popular guessing game \"Wordle\" in Python.\n",
    "\n",
    "## About\n",
    "\n",
    "This project will walk you through the process of implementing Wordle. First, the rules and requirements of the final game are stated. To simplify the code, the original mechanics have been. Then, the guide will walk you through the implementation function-by-function, providing tests and examples along the way to explain the intended behaviour. At last, you will put the functions together in a simple program that runs Wordle. Potential areas for improvements are also suggested in the end.\n",
    "\n",
    "## Rules of Wordle\n",
    "\n",
    "Note: the following has been adapted from the [NYT Wordle Site](https://www.nytimes.com/games/wordle/index.html).\n",
    "\n",
    "To begin, a secret word is chosen by the computer at random from a list of 5-letter words.\n",
    "\n",
    "The player must then guess the secret word in at most 6 tries. Each guess must be a valid 5-letter word. The player hits `ENTER` to submit their guess.\n",
    "\n",
    "After each guess, colors are displayed over the letters of the guess to show how close the guess was to the secret word. \n",
    "\n",
    "There are 3 possible colors:\n",
    "\n",
    "* Green: the letter is in the correct spot\n",
    "* Yellow: the letter is in the word but in the wrong spot\n",
    "* Black: the letter is not in the word at all\n",
    "\n",
    "The game ends after the player guesses the correct word or they have finished their 6th guess - whichever happens first.\n",
    "\n",
    "Here is an example of an actual Wordle game.\n",
    "\n",
    "<img src=\"wordle example.png\" alt=\"wordle example\" width=\"200\"/>\n",
    "\n",
    "In the first guess, `L` was the only letter in the secret word but it was in the wrong place. In the second guess, `O` was the only letter _not_ in the secret word, but all the other letters were in the wrong place. In the third guess, all of the letters were in their correct places. The word `PLANT` was guessed correctly and the game is over.\n",
    "\n",
    "## Requirements for this Project\n",
    "\n",
    "Instead of running in the browser, our version of Wordle will run right here in Jupyter Notebook.\n",
    "\n",
    "To simplify some of the logic, we will be a leniant with the letter coloring of guesses. In particular, we will allow letters to be colored yellow even if there is only one of that letter which has already been guessed in the correct place and colored green.\n",
    "\n",
    "For example, say the secret word is `SHOPS`. Then, the user guesses `BOOKS`. Strictly, speaking, the second `O` in books should be colored green since it is in the correct place, and the first `O` in books should be black since there is only one `O` that was already guessed.\n",
    "\n",
    "In our game, however, we will allow the first `O` in books to be colored yellow. Ignoring this edge case simplifies the logic.\n",
    "\n",
    "For example, let `b`, `y`, and `g` denote black, yellow and green respectively:\n",
    "\n",
    "```\n",
    "SHOPS\n",
    "BOOKS\n",
    "\n",
    "bbgbg <-  strict wordle coloring\n",
    "\n",
    "bygbg <- lenient wordle coloring\n",
    "```\n",
    "\n",
    "Still, if you are tenacious and you want to replicate the game's original ruleset exactly, then some suggestions will be provided at the end of this tutorial.\n",
    "\n",
    "## But Where do the Words Come From??\n",
    "\n",
    "We have copied the words exactly from the New York Time's website for this game. The list of secret words and valid guesses are precisely as they are in the original game.\n",
    "\n",
    "The words are included in two files with this tutorial, namely: `answers.txt` and `guesses.txt`. The answers file contains all possible secret words, and the guesses file contains all valid guesses.\n",
    "\n",
    "## Suggestions\n",
    "\n",
    "If you get stuck, try searching for an answer on the internet. Here are some helpful resources:\n",
    "\n",
    "* [Stack Overflow](https://stackoverflow.com/)\n",
    "* [W3 Schools](https://www.w3schools.com/)\n",
    "* [Python Documentation](https://docs.python.org/3/genindex-all.html)\n",
    "\n",
    "Don't worry about optimizing your code as you write. Just focus on getting it to work at all.\n",
    "\n",
    "Take risks! If you are not sure how to do something, just write the code how your mind imagines it and see how it goes. Who knows - maybe it will work!\n",
    "\n",
    "---\n",
    "\n",
    "## Functions\n",
    "\n",
    "To begin, let's agree on what pieces of code we need to play Wordle. We will bundle these pieces of code up in functions with informative names so that the final code is easy to read. We need the following functions:\n",
    "\n",
    "* read the words (guesses and answers) from the `.txt` files into Python\n",
    "* select a random word from answers to be our secret word\n",
    "* get and validate guesses from the user\n",
    "* color the guess\n",
    "\n",
    "That's it! Let's go implement them :)"
   ]
  },
  {
   "cell_type": "markdown",
   "metadata": {},
   "source": [
    "### Reading Files\n",
    "\n",
    "First, let's write a function called `readfile()` to read the `.txt` files into Python. The function should take only one parameter called `filename` which is a string containing the name of the file to read. The function should return a list of strings containing all of the words in that file. Write your implementation below.\n",
    "\n",
    "_Hint!_ Try using Python's `with` statement to deal with the file.\n",
    "\n",
    "_Hint!_ Remember to remove any \"whitespace\" surrounding the words so they are each precisely 5 charcters long."
   ]
  },
  {
   "cell_type": "code",
   "execution_count": 3,
   "metadata": {},
   "outputs": [],
   "source": [
    "def readfile(filename):\n",
    "    return"
   ]
  },
  {
   "cell_type": "markdown",
   "metadata": {},
   "source": [
    "Run the cell above to create the function `readfile()` in the environment. Then test it by running the cell below.\n",
    "\n",
    "_Note!_ We are using `assert` top test our code, which throws an error if the expression after it is `False`.\n",
    "\n",
    "This will run with no problem: `assert 1 == 1`\n",
    "\n",
    "This will throw an error: `assert 1 == 2`\n",
    "\n",
    "Test your implementation of `readfile()` with the assertions below."
   ]
  },
  {
   "cell_type": "code",
   "execution_count": null,
   "metadata": {},
   "outputs": [],
   "source": [
    "answers = readfile(\"answers.txt\")\n",
    "guesses = readfile(\"guesses.txt\")\n",
    "\n",
    "# the return type should be a list\n",
    "assert type(answers) is list\n",
    "assert type(guesses) is list\n",
    "\n",
    "# the lists should contain the correct number of words\n",
    "assert len(answers) == 2315\n",
    "assert len(guesses) == 12971\n",
    "\n",
    "# check the first and last words of answers\n",
    "assert answers[0] == \"cigar\"\n",
    "assert answers[-1] == \"shave\"\n",
    "\n",
    "# check the first and last words of guesses\n",
    "assert guesses[0] == \"aahed\"\n",
    "assert guesses[-1] == \"shave\""
   ]
  },
  {
   "cell_type": "markdown",
   "metadata": {},
   "source": [
    "### Choosing a Random Word\n",
    "\n",
    "Write a function called `random_answer()` which randomly selects a word from the list of answers to be the secret word. The function should take only one parameter called `answers` which is the list of all possible answers. The function should return a single string containing the secret word.\n",
    "\n",
    "_Hint!_ Import a method from Python's `random` module to make your life easy. No need to reinvert the random-wheel."
   ]
  },
  {
   "cell_type": "code",
   "execution_count": null,
   "metadata": {},
   "outputs": [],
   "source": [
    "def random_answer(answers):\n",
    "    return"
   ]
  },
  {
   "cell_type": "markdown",
   "metadata": {},
   "source": [
    "Test your implementation of `random_answer()` with the assertions below. "
   ]
  },
  {
   "cell_type": "code",
   "execution_count": null,
   "metadata": {},
   "outputs": [],
   "source": [
    "answers = readfile(\"answers.txt\")\n",
    "\n",
    "answer_one = random_answer(answers)\n",
    "\n",
    "# the secret word indeed comes from answers\n",
    "assert answer_one in answers\n",
    "\n",
    "# the secret word is seldom the same twice in a row\n",
    "answer_two = random_answer(answers)\n",
    "answer_three = random_answer(answers)\n",
    "assert answer_two != answer_one\n",
    "assert answer_three != answer_two\n",
    "assert answer_three != anwer_one"
   ]
  },
  {
   "cell_type": "markdown",
   "metadata": {},
   "source": [
    "### Getting Input from the User\n",
    "\n",
    "Write a fuction called `get_guess()` which reads a user's input, validates it, and returns the guess. The function should take only one parameter called `guesses` which is the list of all possible guesses. The function should return the user's guess as a string. The user's guess must be in the list of all possible guesses.\n",
    "\n",
    "\n",
    "_Hint!_ Use `input()` to read input into python as a string.\n",
    "\n",
    "_Hint!_ Use a `while` loop to continue prompting the user until they type a valid guess."
   ]
  },
  {
   "cell_type": "code",
   "execution_count": 5,
   "metadata": {},
   "outputs": [],
   "source": [
    "def get_guess(guesses):\n",
    "    return"
   ]
  },
  {
   "cell_type": "markdown",
   "metadata": {},
   "source": [
    "Test your implementation of `get_guess()` with the assertions below."
   ]
  },
  {
   "cell_type": "code",
   "execution_count": null,
   "metadata": {},
   "outputs": [],
   "source": [
    "guesses = readfile(\"guesses.txt\")\n",
    "\n",
    "guess = get_guess(guesses)\n",
    "\n",
    "# the guess must be valid\n",
    "assert guess in guesses"
   ]
  },
  {
   "cell_type": "markdown",
   "metadata": {},
   "source": [
    "### Coloring the Guess\n",
    "\n",
    "This is the the most important part of Wordle - those green and yellow tiles.\n",
    "\n",
    "Write a function called `accuracy()` that returns a colored string which reports the accuracy of a user's guess. The function should take two parameters called `guess` and `answer`, where `guess` is the user's guess and `answer` is the secret word. For each letter in `guess` apply the following logic:\n",
    "\n",
    "* if the letter is not in the secret word at all, color it black\n",
    "* if the letter is in the secret word and it is in the right place, color it green\n",
    "* if the letter is in the secret word but it is not in the right place, color it yellow\n",
    "\n",
    "For your convenience, we provide the following functions which can change the color of strings:"
   ]
  },
  {
   "cell_type": "code",
   "execution_count": 1,
   "metadata": {},
   "outputs": [],
   "source": [
    "def green(string):\n",
    "    GREEN = '\\033[32m'\n",
    "    END = '\\033[0m'\n",
    "    return GREEN + string + END\n",
    "\n",
    "def yellow(string):\n",
    "    YELLOW = '\\033[33m'\n",
    "    END = '\\033[0m'\n",
    "    return YELLOW + string + END\n",
    "\n",
    "def black(string):\n",
    "    BLACK = '\\033[30m'\n",
    "    END = '\\033[0m'\n",
    "    return BLACK + string + END"
   ]
  },
  {
   "cell_type": "markdown",
   "metadata": {},
   "source": [
    "Here are some examples of how to use these functions:"
   ]
  },
  {
   "cell_type": "code",
   "execution_count": 2,
   "metadata": {},
   "outputs": [
    {
     "name": "stdout",
     "output_type": "stream",
     "text": [
      "\u001b[32mhello\u001b[0m\n",
      "\u001b[33mworld\u001b[0m\n",
      "\u001b[32mh\u001b[0m\u001b[30mell\u001b[0m\u001b[33mo\u001b[0m \u001b[30mwor\u001b[0m\u001b[32mld\u001b[0m\n"
     ]
    }
   ],
   "source": [
    "word = \"hello\"\n",
    "word = green(word)\n",
    "print(word)\n",
    "\n",
    "word = \"world\"\n",
    "word = yellow(word)\n",
    "print(word)\n",
    "\n",
    "word = green(\"h\") + black(\"ell\") + yellow(\"o\") + \" \" + black(\"wor\") + green(\"ld\")\n",
    "print(word)"
   ]
  },
  {
   "cell_type": "markdown",
   "metadata": {},
   "source": [
    "Write your implementation of `accuracy()` below."
   ]
  },
  {
   "cell_type": "code",
   "execution_count": null,
   "metadata": {},
   "outputs": [],
   "source": [
    "def accuracy(guess, answer):\n",
    "    return"
   ]
  },
  {
   "cell_type": "markdown",
   "metadata": {},
   "source": [
    "Test your implementation of `accuracy()` with the assertions below."
   ]
  },
  {
   "cell_type": "code",
   "execution_count": null,
   "metadata": {},
   "outputs": [],
   "source": [
    "result = accuracy(\"stops\", \"books\")\n",
    "\n",
    "assert results == black(\"b\") + yellow(\"o\") + green(\"o\") + black(\"k\") + green(\"s\")"
   ]
  },
  {
   "cell_type": "markdown",
   "metadata": {},
   "source": [
    "### Putting it Together\n",
    "\n",
    "We are ready to write the game. In the following cell, an outline of the code has been suggested. Use the functions you wrote to complete the code."
   ]
  },
  {
   "cell_type": "code",
   "execution_count": null,
   "metadata": {},
   "outputs": [],
   "source": [
    "# read answers file\n",
    "\n",
    "# read guesses file\n",
    "\n",
    "# choose a random word from answers to be the secret word\n",
    "\n",
    "for i in range(6): # allow 6 guesses\n",
    "    print(\"guess #{}\".format(i - 1))\n",
    "    \n",
    "    # get guess from user\n",
    "    \n",
    "    # print out the colored version of the guess\n",
    "    \n",
    "    # end the game if the guess was correct"
   ]
  },
  {
   "cell_type": "markdown",
   "metadata": {},
   "source": [
    "### Conclusion\n",
    "\n",
    "Congratulations on writing your Python version of Wordle!\n",
    "\n",
    "Take time to go back, re-read, annotate and improve the code you wrote. Make sure that you will be able to understand what you wrote if you read it again in a few years.\n",
    "\n",
    "Try adding new words to the guesses and answers. Try allowing for more guesses. Try customising the `input()` prompt!"
   ]
  },
  {
   "cell_type": "markdown",
   "metadata": {},
   "source": [
    "## Improving the Code\n",
    "\n",
    "For our version of Wordle, we were lenient with the guess coloring. If you want to improve the coloring logic, we provide some suggestions here.\n",
    "\n",
    "Firstly, note that the logic for black and green colored letters does not need to be changed. Correct letters will always be green, and letters that are not in the word will always be black. So, there is nothing to change about that.\n",
    "\n",
    "The difficulty is in yellow letters. Here are some edge cases to think about:\n",
    "\n",
    "* If there is only one `a` in the secret word, but the user guesses a word with two`a`s, then one of the `a`s should be black, and the other `a` should be green or yellow depending on where it is. Focus on coloring any potentially green `a`s first, then worry about the other one.\n",
    "* What if the users makes a guess with three `b`s ... or somehow four `c`s? What if the user makes a guess with two `d`s and two`e`s? How do we generalise the logic to work for an arbitrary number of duplicated letters?\n",
    "\n",
    "You may need to process the letters of a guess out of order, or even multiple times. In fact, there is are many potential solutions to this problem.\n",
    "\n",
    "If you get stuck, you can try searching on [Github](https://github.com/) to learn from people's Wordle implementations.\n",
    "\n",
    "Good luck!\n"
   ]
  }
 ],
 "metadata": {
  "interpreter": {
   "hash": "b0fa6594d8f4cbf19f97940f81e996739fb7646882a419484c72d19e05852a7e"
  },
  "kernelspec": {
   "display_name": "Python 3 (ipykernel)",
   "language": "python",
   "name": "python3"
  },
  "language_info": {
   "codemirror_mode": {
    "name": "ipython",
    "version": 3
   },
   "file_extension": ".py",
   "mimetype": "text/x-python",
   "name": "python",
   "nbconvert_exporter": "python",
   "pygments_lexer": "ipython3",
   "version": "3.8.12"
  }
 },
 "nbformat": 4,
 "nbformat_minor": 4
}
